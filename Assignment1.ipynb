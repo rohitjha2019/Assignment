{
 "cells": [
  {
   "cell_type": "code",
   "execution_count": 11,
   "id": "daf88881-98e7-4791-ab44-b611a0362e47",
   "metadata": {},
   "outputs": [],
   "source": [
    "import pandas as pd"
   ]
  },
  {
   "cell_type": "code",
   "execution_count": 12,
   "id": "4158ce16-179b-4809-8094-38ec3da31967",
   "metadata": {},
   "outputs": [
    {
     "data": {
      "text/plain": [
       "{'UserDetails.csv':   User ID      User Name  Age       Location Registration Date         Phone  \\\n",
       " 0    U001  Alice Johnson   28       New York        2023-01-15  123-456-7890   \n",
       " 1    U002      Bob Smith   35    Los Angeles        2023-02-20  987-654-3210   \n",
       " 2    U003    Charlie Lee   42        Chicago        2023-03-10  555-123-4567   \n",
       " 3    U004    David Brown   27  San Francisco        2023-04-05  444-333-2222   \n",
       " 4    U005     Emma White   30        Seattle        2023-05-22  777-888-9999   \n",
       " 5    U006    Frank Green   25         Austin        2023-06-15  888-777-6666   \n",
       " 6    U007     Grace King   38         Boston        2023-07-02  999-888-7777   \n",
       " 7    U008      Henry Lee   31          Miami        2023-08-11  101-202-3030   \n",
       " 8    U009    Irene Moore   33         Dallas        2023-09-01  202-303-4040   \n",
       " 9    U010     Jack White   29        Phoenix        2023-10-10  303-404-5050   \n",
       " \n",
       "                Email Favorite Meal  Total Orders  \n",
       " 0    alice@email.com        Dinner            12  \n",
       " 1      bob@email.com         Lunch             8  \n",
       " 2  charlie@email.com     Breakfast            15  \n",
       " 3    david@email.com        Dinner            10  \n",
       " 4     emma@email.com         Lunch             9  \n",
       " 5    frank@email.com        Dinner             7  \n",
       " 6    grace@email.com     Breakfast            14  \n",
       " 7    henry@email.com        Dinner             5  \n",
       " 8    irene@email.com         Lunch             6  \n",
       " 9     jack@email.com        Dinner             8  ,\n",
       " 'CookingSessions.csv':    Session ID User ID        Dish Name  Meal Type       Session Start  \\\n",
       " 0        S001    U001        Spaghetti     Dinner 2024-12-01 19:00:00   \n",
       " 1        S002    U002     Caesar Salad      Lunch 2024-12-01 12:00:00   \n",
       " 2        S003    U003  Grilled Chicken     Dinner 2024-12-02 19:30:00   \n",
       " 3        S004    U001         Pancakes  Breakfast 2024-12-02 07:30:00   \n",
       " 4        S005    U004     Caesar Salad      Lunch 2024-12-03 13:00:00   \n",
       " 5        S006    U002        Spaghetti     Dinner 2024-12-03 18:30:00   \n",
       " 6        S007    U005  Grilled Chicken     Dinner 2024-12-04 18:00:00   \n",
       " 7        S008    U003    Veggie Burger      Lunch 2024-12-04 13:30:00   \n",
       " 8        S009    U001  Grilled Chicken     Dinner 2024-12-05 19:00:00   \n",
       " 9        S010    U002          Oatmeal  Breakfast 2024-12-05 07:00:00   \n",
       " 10       S011    U003         Pancakes  Breakfast 2024-12-06 08:00:00   \n",
       " 11       S012    U004        Spaghetti     Dinner 2024-12-06 19:00:00   \n",
       " 12       S013    U005     Caesar Salad      Lunch 2024-12-07 12:30:00   \n",
       " 13       S014    U006  Grilled Chicken     Dinner 2024-12-07 18:00:00   \n",
       " 14       S015    U007        Spaghetti     Dinner 2024-12-08 19:30:00   \n",
       " 15       S016    U008    Veggie Burger      Lunch 2024-12-08 13:30:00   \n",
       " \n",
       "            Session End  Duration (mins)  Session Rating  \n",
       " 0  2024-12-01 19:30:00               30             4.5  \n",
       " 1  2024-12-01 12:20:00               20             4.0  \n",
       " 2  2024-12-02 20:10:00               40             4.8  \n",
       " 3  2024-12-02 08:00:00               30             4.2  \n",
       " 4  2024-12-03 13:15:00               15             4.7  \n",
       " 5  2024-12-03 19:00:00               30             4.3  \n",
       " 6  2024-12-04 18:45:00               45             4.6  \n",
       " 7  2024-12-04 13:50:00               20             4.4  \n",
       " 8  2024-12-05 19:40:00               40             4.9  \n",
       " 9  2024-12-05 07:10:00               10             4.1  \n",
       " 10 2024-12-06 08:30:00               30             4.6  \n",
       " 11 2024-12-06 19:40:00               40             4.7  \n",
       " 12 2024-12-07 13:00:00               30             4.4  \n",
       " 13 2024-12-07 18:45:00               45             4.8  \n",
       " 14 2024-12-08 20:10:00               40             5.0  \n",
       " 15 2024-12-08 13:50:00               20             4.3  ,\n",
       " 'OrderDetails.csv':     Order ID User ID Order Date  Meal Type        Dish Name Order Status  \\\n",
       " 0       1001    U001 2024-12-01     Dinner        Spaghetti    Completed   \n",
       " 1       1002    U002 2024-12-01      Lunch     Caesar Salad    Completed   \n",
       " 2       1003    U003 2024-12-02     Dinner  Grilled Chicken     Canceled   \n",
       " 3       1004    U001 2024-12-02  Breakfast         Pancakes    Completed   \n",
       " 4       1005    U004 2024-12-03      Lunch     Caesar Salad    Completed   \n",
       " 5       1006    U002 2024-12-03     Dinner        Spaghetti    Completed   \n",
       " 6       1007    U005 2024-12-04     Dinner  Grilled Chicken    Completed   \n",
       " 7       1008    U003 2024-12-04      Lunch    Veggie Burger     Canceled   \n",
       " 8       1009    U001 2024-12-05     Dinner  Grilled Chicken    Completed   \n",
       " 9       1010    U002 2024-12-05  Breakfast          Oatmeal    Completed   \n",
       " 10      1011    U003 2024-12-06  Breakfast         Pancakes    Completed   \n",
       " 11      1012    U004 2024-12-06     Dinner        Spaghetti    Completed   \n",
       " 12      1013    U005 2024-12-07      Lunch     Caesar Salad    Completed   \n",
       " 13      1014    U006 2024-12-07     Dinner  Grilled Chicken    Completed   \n",
       " 14      1015    U007 2024-12-08     Dinner        Spaghetti    Completed   \n",
       " 15      1016    U008 2024-12-08      Lunch    Veggie Burger    Completed   \n",
       " \n",
       "     Amount (USD) Time of Day  Rating Session ID  \n",
       " 0           15.0       Night     5.0       S001  \n",
       " 1           10.0         Day     4.0       S002  \n",
       " 2           12.5       Night     NaN       S003  \n",
       " 3            8.0     Morning     4.0       S004  \n",
       " 4            9.0         Day     4.0       S005  \n",
       " 5           14.0       Night     4.0       S006  \n",
       " 6           13.5       Night     4.0       S007  \n",
       " 7           11.0         Day     NaN       S008  \n",
       " 8           12.0       Night     5.0       S009  \n",
       " 9            7.0     Morning     4.0       S010  \n",
       " 10           8.5     Morning     4.0       S011  \n",
       " 11          12.5       Night     4.0       S012  \n",
       " 12           9.0         Day     4.0       S013  \n",
       " 13          13.0       Night     5.0       S014  \n",
       " 14          14.0       Night     5.0       S015  \n",
       " 15          11.0         Day     4.0       S016  }"
      ]
     },
     "execution_count": 12,
     "metadata": {},
     "output_type": "execute_result"
    }
   ],
   "source": [
    "df=pd.read_excel(r\"D:\\httpsupliance\\Assignment.xlsx\", sheet_name=None)\n",
    "df\n"
   ]
  },
  {
   "cell_type": "code",
   "execution_count": 13,
   "id": "ba1e4bdb-1ec8-4044-b8e9-597094456d48",
   "metadata": {},
   "outputs": [],
   "source": [
    "df1=df[\"UserDetails.csv\"]\n",
    "df2=df[\"CookingSessions.csv\"]\n",
    "df3=df[\"OrderDetails.csv\"]"
   ]
  },
  {
   "cell_type": "code",
   "execution_count": 14,
   "id": "d4a65c46-3cb9-4d23-af40-1e4263c8524b",
   "metadata": {},
   "outputs": [
    {
     "data": {
      "text/html": [
       "<div>\n",
       "<style scoped>\n",
       "    .dataframe tbody tr th:only-of-type {\n",
       "        vertical-align: middle;\n",
       "    }\n",
       "\n",
       "    .dataframe tbody tr th {\n",
       "        vertical-align: top;\n",
       "    }\n",
       "\n",
       "    .dataframe thead th {\n",
       "        text-align: right;\n",
       "    }\n",
       "</style>\n",
       "<table border=\"1\" class=\"dataframe\">\n",
       "  <thead>\n",
       "    <tr style=\"text-align: right;\">\n",
       "      <th></th>\n",
       "      <th>User ID</th>\n",
       "      <th>User Name</th>\n",
       "      <th>Age</th>\n",
       "      <th>Location</th>\n",
       "      <th>Registration Date</th>\n",
       "      <th>Phone</th>\n",
       "      <th>Email</th>\n",
       "      <th>Favorite Meal</th>\n",
       "      <th>Total Orders</th>\n",
       "    </tr>\n",
       "  </thead>\n",
       "  <tbody>\n",
       "    <tr>\n",
       "      <th>0</th>\n",
       "      <td>U001</td>\n",
       "      <td>Alice Johnson</td>\n",
       "      <td>28</td>\n",
       "      <td>New York</td>\n",
       "      <td>2023-01-15</td>\n",
       "      <td>123-456-7890</td>\n",
       "      <td>alice@email.com</td>\n",
       "      <td>Dinner</td>\n",
       "      <td>12</td>\n",
       "    </tr>\n",
       "    <tr>\n",
       "      <th>1</th>\n",
       "      <td>U002</td>\n",
       "      <td>Bob Smith</td>\n",
       "      <td>35</td>\n",
       "      <td>Los Angeles</td>\n",
       "      <td>2023-02-20</td>\n",
       "      <td>987-654-3210</td>\n",
       "      <td>bob@email.com</td>\n",
       "      <td>Lunch</td>\n",
       "      <td>8</td>\n",
       "    </tr>\n",
       "  </tbody>\n",
       "</table>\n",
       "</div>"
      ],
      "text/plain": [
       "  User ID      User Name  Age     Location Registration Date         Phone  \\\n",
       "0    U001  Alice Johnson   28     New York        2023-01-15  123-456-7890   \n",
       "1    U002      Bob Smith   35  Los Angeles        2023-02-20  987-654-3210   \n",
       "\n",
       "             Email Favorite Meal  Total Orders  \n",
       "0  alice@email.com        Dinner            12  \n",
       "1    bob@email.com         Lunch             8  "
      ]
     },
     "execution_count": 14,
     "metadata": {},
     "output_type": "execute_result"
    }
   ],
   "source": [
    "df1.head(2)"
   ]
  },
  {
   "cell_type": "code",
   "execution_count": 15,
   "id": "7d306825-71e4-47b5-81d2-ef39c5ee62d4",
   "metadata": {},
   "outputs": [
    {
     "data": {
      "text/html": [
       "<div>\n",
       "<style scoped>\n",
       "    .dataframe tbody tr th:only-of-type {\n",
       "        vertical-align: middle;\n",
       "    }\n",
       "\n",
       "    .dataframe tbody tr th {\n",
       "        vertical-align: top;\n",
       "    }\n",
       "\n",
       "    .dataframe thead th {\n",
       "        text-align: right;\n",
       "    }\n",
       "</style>\n",
       "<table border=\"1\" class=\"dataframe\">\n",
       "  <thead>\n",
       "    <tr style=\"text-align: right;\">\n",
       "      <th></th>\n",
       "      <th>Session ID</th>\n",
       "      <th>User ID</th>\n",
       "      <th>Dish Name</th>\n",
       "      <th>Meal Type</th>\n",
       "      <th>Session Start</th>\n",
       "      <th>Session End</th>\n",
       "      <th>Duration (mins)</th>\n",
       "      <th>Session Rating</th>\n",
       "    </tr>\n",
       "  </thead>\n",
       "  <tbody>\n",
       "    <tr>\n",
       "      <th>0</th>\n",
       "      <td>S001</td>\n",
       "      <td>U001</td>\n",
       "      <td>Spaghetti</td>\n",
       "      <td>Dinner</td>\n",
       "      <td>2024-12-01 19:00:00</td>\n",
       "      <td>2024-12-01 19:30:00</td>\n",
       "      <td>30</td>\n",
       "      <td>4.5</td>\n",
       "    </tr>\n",
       "    <tr>\n",
       "      <th>1</th>\n",
       "      <td>S002</td>\n",
       "      <td>U002</td>\n",
       "      <td>Caesar Salad</td>\n",
       "      <td>Lunch</td>\n",
       "      <td>2024-12-01 12:00:00</td>\n",
       "      <td>2024-12-01 12:20:00</td>\n",
       "      <td>20</td>\n",
       "      <td>4.0</td>\n",
       "    </tr>\n",
       "  </tbody>\n",
       "</table>\n",
       "</div>"
      ],
      "text/plain": [
       "  Session ID User ID     Dish Name Meal Type       Session Start  \\\n",
       "0       S001    U001     Spaghetti    Dinner 2024-12-01 19:00:00   \n",
       "1       S002    U002  Caesar Salad     Lunch 2024-12-01 12:00:00   \n",
       "\n",
       "          Session End  Duration (mins)  Session Rating  \n",
       "0 2024-12-01 19:30:00               30             4.5  \n",
       "1 2024-12-01 12:20:00               20             4.0  "
      ]
     },
     "execution_count": 15,
     "metadata": {},
     "output_type": "execute_result"
    }
   ],
   "source": [
    "df2.head(2)"
   ]
  },
  {
   "cell_type": "code",
   "execution_count": 16,
   "id": "10f8238e-52e6-4604-8a36-2d0c7bdc5925",
   "metadata": {},
   "outputs": [
    {
     "data": {
      "text/html": [
       "<div>\n",
       "<style scoped>\n",
       "    .dataframe tbody tr th:only-of-type {\n",
       "        vertical-align: middle;\n",
       "    }\n",
       "\n",
       "    .dataframe tbody tr th {\n",
       "        vertical-align: top;\n",
       "    }\n",
       "\n",
       "    .dataframe thead th {\n",
       "        text-align: right;\n",
       "    }\n",
       "</style>\n",
       "<table border=\"1\" class=\"dataframe\">\n",
       "  <thead>\n",
       "    <tr style=\"text-align: right;\">\n",
       "      <th></th>\n",
       "      <th>Order ID</th>\n",
       "      <th>User ID</th>\n",
       "      <th>Order Date</th>\n",
       "      <th>Meal Type</th>\n",
       "      <th>Dish Name</th>\n",
       "      <th>Order Status</th>\n",
       "      <th>Amount (USD)</th>\n",
       "      <th>Time of Day</th>\n",
       "      <th>Rating</th>\n",
       "      <th>Session ID</th>\n",
       "    </tr>\n",
       "  </thead>\n",
       "  <tbody>\n",
       "    <tr>\n",
       "      <th>0</th>\n",
       "      <td>1001</td>\n",
       "      <td>U001</td>\n",
       "      <td>2024-12-01</td>\n",
       "      <td>Dinner</td>\n",
       "      <td>Spaghetti</td>\n",
       "      <td>Completed</td>\n",
       "      <td>15.0</td>\n",
       "      <td>Night</td>\n",
       "      <td>5.0</td>\n",
       "      <td>S001</td>\n",
       "    </tr>\n",
       "    <tr>\n",
       "      <th>1</th>\n",
       "      <td>1002</td>\n",
       "      <td>U002</td>\n",
       "      <td>2024-12-01</td>\n",
       "      <td>Lunch</td>\n",
       "      <td>Caesar Salad</td>\n",
       "      <td>Completed</td>\n",
       "      <td>10.0</td>\n",
       "      <td>Day</td>\n",
       "      <td>4.0</td>\n",
       "      <td>S002</td>\n",
       "    </tr>\n",
       "  </tbody>\n",
       "</table>\n",
       "</div>"
      ],
      "text/plain": [
       "   Order ID User ID Order Date Meal Type     Dish Name Order Status  \\\n",
       "0      1001    U001 2024-12-01    Dinner     Spaghetti    Completed   \n",
       "1      1002    U002 2024-12-01     Lunch  Caesar Salad    Completed   \n",
       "\n",
       "   Amount (USD) Time of Day  Rating Session ID  \n",
       "0          15.0       Night     5.0       S001  \n",
       "1          10.0         Day     4.0       S002  "
      ]
     },
     "execution_count": 16,
     "metadata": {},
     "output_type": "execute_result"
    }
   ],
   "source": [
    "df3.head(2)"
   ]
  },
  {
   "cell_type": "markdown",
   "id": "1f48c954-2210-418b-9556-3a4f0aa23425",
   "metadata": {},
   "source": [
    "#### Missing values check"
   ]
  },
  {
   "cell_type": "code",
   "execution_count": 17,
   "id": "d94ca8ad-9cef-48e4-a0ba-88d8e861f3ba",
   "metadata": {},
   "outputs": [
    {
     "data": {
      "text/plain": [
       "User ID              0\n",
       "User Name            0\n",
       "Age                  0\n",
       "Location             0\n",
       "Registration Date    0\n",
       "Phone                0\n",
       "Email                0\n",
       "Favorite Meal        0\n",
       "Total Orders         0\n",
       "dtype: int64"
      ]
     },
     "execution_count": 17,
     "metadata": {},
     "output_type": "execute_result"
    }
   ],
   "source": [
    "df1.isnull().sum()"
   ]
  },
  {
   "cell_type": "code",
   "execution_count": 18,
   "id": "cf76841d-a95a-4856-a009-1445f7110029",
   "metadata": {},
   "outputs": [
    {
     "data": {
      "text/plain": [
       "Session ID         0\n",
       "User ID            0\n",
       "Dish Name          0\n",
       "Meal Type          0\n",
       "Session Start      0\n",
       "Session End        0\n",
       "Duration (mins)    0\n",
       "Session Rating     0\n",
       "dtype: int64"
      ]
     },
     "execution_count": 18,
     "metadata": {},
     "output_type": "execute_result"
    }
   ],
   "source": [
    "df2.isnull().sum()"
   ]
  },
  {
   "cell_type": "code",
   "execution_count": 19,
   "id": "372b7375-310e-47d4-9214-94e0c08e7328",
   "metadata": {},
   "outputs": [
    {
     "data": {
      "text/plain": [
       "Order ID        0\n",
       "User ID         0\n",
       "Order Date      0\n",
       "Meal Type       0\n",
       "Dish Name       0\n",
       "Order Status    0\n",
       "Amount (USD)    0\n",
       "Time of Day     0\n",
       "Rating          2\n",
       "Session ID      0\n",
       "dtype: int64"
      ]
     },
     "execution_count": 19,
     "metadata": {},
     "output_type": "execute_result"
    }
   ],
   "source": [
    "df3.isnull().sum()"
   ]
  },
  {
   "cell_type": "markdown",
   "id": "ec675339-3854-4e7a-ba22-4b0cca72501b",
   "metadata": {},
   "source": [
    "####  Data Cleaning Summary:\n",
    " #####  Missing Values:\n",
    "###### OrderDetails: 2 missing values in the Rating column."
   ]
  },
  {
   "cell_type": "markdown",
   "id": "1bba75a5-3b03-4d6e-8e58-7b26b52abccd",
   "metadata": {},
   "source": [
    "#### Fill the missing values with Mean or Median"
   ]
  },
  {
   "cell_type": "code",
   "execution_count": 20,
   "id": "04f63834-eb8c-4e6b-98f6-1f02cff1b4dd",
   "metadata": {},
   "outputs": [
    {
     "data": {
      "text/plain": [
       "Order ID        0\n",
       "User ID         0\n",
       "Order Date      0\n",
       "Meal Type       0\n",
       "Dish Name       0\n",
       "Order Status    0\n",
       "Amount (USD)    0\n",
       "Time of Day     0\n",
       "Rating          0\n",
       "Session ID      0\n",
       "dtype: int64"
      ]
     },
     "execution_count": 20,
     "metadata": {},
     "output_type": "execute_result"
    }
   ],
   "source": [
    "df3['Rating'].fillna(df3['Rating'].mean(), inplace=True)\n",
    "df3.isnull().sum()"
   ]
  },
  {
   "cell_type": "raw",
   "id": "5f15e06f-abe8-43c5-8e13-4b26ff945e68",
   "metadata": {},
   "source": [
    "if the any column is not necessary for the analysis than we drop column that having null values by using dropna(). "
   ]
  },
  {
   "cell_type": "code",
   "execution_count": null,
   "id": "75ff606d-9132-4f65-b560-ada35dd6ddc2",
   "metadata": {},
   "outputs": [],
   "source": []
  },
  {
   "cell_type": "markdown",
   "id": "ec986d89-fdf8-466b-96d0-42f45ea138b2",
   "metadata": {},
   "source": [
    "## Duplicate rows check"
   ]
  },
  {
   "cell_type": "code",
   "execution_count": 21,
   "id": "89c59810-a415-4a1b-99e5-70b3f713b112",
   "metadata": {},
   "outputs": [
    {
     "data": {
      "text/plain": [
       "0"
      ]
     },
     "execution_count": 21,
     "metadata": {},
     "output_type": "execute_result"
    }
   ],
   "source": [
    "df1.duplicated().sum()"
   ]
  },
  {
   "cell_type": "code",
   "execution_count": 22,
   "id": "f172bc8c-a121-4a57-8e0e-d96449aa7425",
   "metadata": {},
   "outputs": [
    {
     "data": {
      "text/plain": [
       "0"
      ]
     },
     "execution_count": 22,
     "metadata": {},
     "output_type": "execute_result"
    }
   ],
   "source": [
    "df2.duplicated().sum()"
   ]
  },
  {
   "cell_type": "code",
   "execution_count": 23,
   "id": "0445e0f6-0d0c-4f53-8653-0dfd179bd83e",
   "metadata": {},
   "outputs": [
    {
     "data": {
      "text/plain": [
       "0"
      ]
     },
     "execution_count": 23,
     "metadata": {},
     "output_type": "execute_result"
    }
   ],
   "source": [
    "df3.duplicated().sum()"
   ]
  },
  {
   "cell_type": "markdown",
   "id": "4848f54d-61b9-4074-b5a0-3d5e35fbf142",
   "metadata": {},
   "source": [
    "##### Duplicates:\n",
    "###### No duplicate rows were found in any dataset.\n",
    "###### if we find duplicates rows in our datasets we drop the duplicates rows by using df.drop_duplicates()"
   ]
  },
  {
   "cell_type": "code",
   "execution_count": null,
   "id": "d9c9aeac-8ce7-478c-8648-069b436cdd1b",
   "metadata": {},
   "outputs": [],
   "source": []
  },
  {
   "cell_type": "markdown",
   "id": "5d272439-6395-4fb4-b432-d3f28dc2897e",
   "metadata": {},
   "source": [
    "## Steps to Merge Datasets:\n",
    "      Merge UserDetails with CookingSessions:\n",
    "\n",
    "      Use User ID as the key to join both datasets.\n",
    "      Merge the result with OrderDetails:\n",
    "\n",
    "      Use both User ID and Session ID to merge the combined dataset from step 1 with OrderDetails."
   ]
  },
  {
   "cell_type": "code",
   "execution_count": 24,
   "id": "2f4fd7f1-275a-4882-b630-62f795686fac",
   "metadata": {},
   "outputs": [],
   "source": [
    "# Step 1: Merge UserDetails with CookingSessions on 'User ID'\n",
    "merged_step1 = pd.merge(df1, df2, on=\"User ID\", how=\"inner\")\n",
    "\n",
    "# Step 2: Merge the result with OrderDetails on 'User ID' and 'Session ID'\n",
    "final_merged_data = pd.merge(merged_step1, df3, on=[\"User ID\", \"Session ID\"], how=\"inner\")\n",
    "\n",
    "\n"
   ]
  },
  {
   "cell_type": "code",
   "execution_count": 25,
   "id": "57fbfa70-6541-464e-9de1-5fcc17f59217",
   "metadata": {},
   "outputs": [
    {
     "data": {
      "text/html": [
       "<div>\n",
       "<style scoped>\n",
       "    .dataframe tbody tr th:only-of-type {\n",
       "        vertical-align: middle;\n",
       "    }\n",
       "\n",
       "    .dataframe tbody tr th {\n",
       "        vertical-align: top;\n",
       "    }\n",
       "\n",
       "    .dataframe thead th {\n",
       "        text-align: right;\n",
       "    }\n",
       "</style>\n",
       "<table border=\"1\" class=\"dataframe\">\n",
       "  <thead>\n",
       "    <tr style=\"text-align: right;\">\n",
       "      <th></th>\n",
       "      <th>User ID</th>\n",
       "      <th>User Name</th>\n",
       "      <th>Age</th>\n",
       "      <th>Location</th>\n",
       "      <th>Registration Date</th>\n",
       "      <th>Phone</th>\n",
       "      <th>Email</th>\n",
       "      <th>Favorite Meal</th>\n",
       "      <th>Total Orders</th>\n",
       "      <th>Session ID</th>\n",
       "      <th>...</th>\n",
       "      <th>Duration (mins)</th>\n",
       "      <th>Session Rating</th>\n",
       "      <th>Order ID</th>\n",
       "      <th>Order Date</th>\n",
       "      <th>Meal Type_y</th>\n",
       "      <th>Dish Name_y</th>\n",
       "      <th>Order Status</th>\n",
       "      <th>Amount (USD)</th>\n",
       "      <th>Time of Day</th>\n",
       "      <th>Rating</th>\n",
       "    </tr>\n",
       "  </thead>\n",
       "  <tbody>\n",
       "    <tr>\n",
       "      <th>0</th>\n",
       "      <td>U001</td>\n",
       "      <td>Alice Johnson</td>\n",
       "      <td>28</td>\n",
       "      <td>New York</td>\n",
       "      <td>2023-01-15</td>\n",
       "      <td>123-456-7890</td>\n",
       "      <td>alice@email.com</td>\n",
       "      <td>Dinner</td>\n",
       "      <td>12</td>\n",
       "      <td>S001</td>\n",
       "      <td>...</td>\n",
       "      <td>30</td>\n",
       "      <td>4.5</td>\n",
       "      <td>1001</td>\n",
       "      <td>2024-12-01</td>\n",
       "      <td>Dinner</td>\n",
       "      <td>Spaghetti</td>\n",
       "      <td>Completed</td>\n",
       "      <td>15.0</td>\n",
       "      <td>Night</td>\n",
       "      <td>5.0</td>\n",
       "    </tr>\n",
       "    <tr>\n",
       "      <th>1</th>\n",
       "      <td>U001</td>\n",
       "      <td>Alice Johnson</td>\n",
       "      <td>28</td>\n",
       "      <td>New York</td>\n",
       "      <td>2023-01-15</td>\n",
       "      <td>123-456-7890</td>\n",
       "      <td>alice@email.com</td>\n",
       "      <td>Dinner</td>\n",
       "      <td>12</td>\n",
       "      <td>S004</td>\n",
       "      <td>...</td>\n",
       "      <td>30</td>\n",
       "      <td>4.2</td>\n",
       "      <td>1004</td>\n",
       "      <td>2024-12-02</td>\n",
       "      <td>Breakfast</td>\n",
       "      <td>Pancakes</td>\n",
       "      <td>Completed</td>\n",
       "      <td>8.0</td>\n",
       "      <td>Morning</td>\n",
       "      <td>4.0</td>\n",
       "    </tr>\n",
       "    <tr>\n",
       "      <th>2</th>\n",
       "      <td>U001</td>\n",
       "      <td>Alice Johnson</td>\n",
       "      <td>28</td>\n",
       "      <td>New York</td>\n",
       "      <td>2023-01-15</td>\n",
       "      <td>123-456-7890</td>\n",
       "      <td>alice@email.com</td>\n",
       "      <td>Dinner</td>\n",
       "      <td>12</td>\n",
       "      <td>S009</td>\n",
       "      <td>...</td>\n",
       "      <td>40</td>\n",
       "      <td>4.9</td>\n",
       "      <td>1009</td>\n",
       "      <td>2024-12-05</td>\n",
       "      <td>Dinner</td>\n",
       "      <td>Grilled Chicken</td>\n",
       "      <td>Completed</td>\n",
       "      <td>12.0</td>\n",
       "      <td>Night</td>\n",
       "      <td>5.0</td>\n",
       "    </tr>\n",
       "    <tr>\n",
       "      <th>3</th>\n",
       "      <td>U002</td>\n",
       "      <td>Bob Smith</td>\n",
       "      <td>35</td>\n",
       "      <td>Los Angeles</td>\n",
       "      <td>2023-02-20</td>\n",
       "      <td>987-654-3210</td>\n",
       "      <td>bob@email.com</td>\n",
       "      <td>Lunch</td>\n",
       "      <td>8</td>\n",
       "      <td>S002</td>\n",
       "      <td>...</td>\n",
       "      <td>20</td>\n",
       "      <td>4.0</td>\n",
       "      <td>1002</td>\n",
       "      <td>2024-12-01</td>\n",
       "      <td>Lunch</td>\n",
       "      <td>Caesar Salad</td>\n",
       "      <td>Completed</td>\n",
       "      <td>10.0</td>\n",
       "      <td>Day</td>\n",
       "      <td>4.0</td>\n",
       "    </tr>\n",
       "    <tr>\n",
       "      <th>4</th>\n",
       "      <td>U002</td>\n",
       "      <td>Bob Smith</td>\n",
       "      <td>35</td>\n",
       "      <td>Los Angeles</td>\n",
       "      <td>2023-02-20</td>\n",
       "      <td>987-654-3210</td>\n",
       "      <td>bob@email.com</td>\n",
       "      <td>Lunch</td>\n",
       "      <td>8</td>\n",
       "      <td>S006</td>\n",
       "      <td>...</td>\n",
       "      <td>30</td>\n",
       "      <td>4.3</td>\n",
       "      <td>1006</td>\n",
       "      <td>2024-12-03</td>\n",
       "      <td>Dinner</td>\n",
       "      <td>Spaghetti</td>\n",
       "      <td>Completed</td>\n",
       "      <td>14.0</td>\n",
       "      <td>Night</td>\n",
       "      <td>4.0</td>\n",
       "    </tr>\n",
       "  </tbody>\n",
       "</table>\n",
       "<p>5 rows × 24 columns</p>\n",
       "</div>"
      ],
      "text/plain": [
       "  User ID      User Name  Age     Location Registration Date         Phone  \\\n",
       "0    U001  Alice Johnson   28     New York        2023-01-15  123-456-7890   \n",
       "1    U001  Alice Johnson   28     New York        2023-01-15  123-456-7890   \n",
       "2    U001  Alice Johnson   28     New York        2023-01-15  123-456-7890   \n",
       "3    U002      Bob Smith   35  Los Angeles        2023-02-20  987-654-3210   \n",
       "4    U002      Bob Smith   35  Los Angeles        2023-02-20  987-654-3210   \n",
       "\n",
       "             Email Favorite Meal  Total Orders Session ID  ...  \\\n",
       "0  alice@email.com        Dinner            12       S001  ...   \n",
       "1  alice@email.com        Dinner            12       S004  ...   \n",
       "2  alice@email.com        Dinner            12       S009  ...   \n",
       "3    bob@email.com         Lunch             8       S002  ...   \n",
       "4    bob@email.com         Lunch             8       S006  ...   \n",
       "\n",
       "  Duration (mins) Session Rating Order ID Order Date  Meal Type_y  \\\n",
       "0              30            4.5     1001 2024-12-01       Dinner   \n",
       "1              30            4.2     1004 2024-12-02    Breakfast   \n",
       "2              40            4.9     1009 2024-12-05       Dinner   \n",
       "3              20            4.0     1002 2024-12-01        Lunch   \n",
       "4              30            4.3     1006 2024-12-03       Dinner   \n",
       "\n",
       "       Dish Name_y  Order Status Amount (USD) Time of Day Rating  \n",
       "0        Spaghetti     Completed         15.0       Night    5.0  \n",
       "1         Pancakes     Completed          8.0     Morning    4.0  \n",
       "2  Grilled Chicken     Completed         12.0       Night    5.0  \n",
       "3     Caesar Salad     Completed         10.0         Day    4.0  \n",
       "4        Spaghetti     Completed         14.0       Night    4.0  \n",
       "\n",
       "[5 rows x 24 columns]"
      ]
     },
     "execution_count": 25,
     "metadata": {},
     "output_type": "execute_result"
    }
   ],
   "source": [
    "final_merged_data.head()"
   ]
  },
  {
   "cell_type": "code",
   "execution_count": 26,
   "id": "b21307ed-afc8-4947-bbb1-d1c6ffc9e65f",
   "metadata": {},
   "outputs": [
    {
     "data": {
      "text/plain": [
       "(16, 24)"
      ]
     },
     "execution_count": 26,
     "metadata": {},
     "output_type": "execute_result"
    }
   ],
   "source": [
    "final_merged_data.shape"
   ]
  },
  {
   "cell_type": "code",
   "execution_count": 27,
   "id": "cdf30bc5-b592-4169-8f6d-938c915222af",
   "metadata": {},
   "outputs": [
    {
     "data": {
      "text/html": [
       "<div>\n",
       "<style scoped>\n",
       "    .dataframe tbody tr th:only-of-type {\n",
       "        vertical-align: middle;\n",
       "    }\n",
       "\n",
       "    .dataframe tbody tr th {\n",
       "        vertical-align: top;\n",
       "    }\n",
       "\n",
       "    .dataframe thead th {\n",
       "        text-align: right;\n",
       "    }\n",
       "</style>\n",
       "<table border=\"1\" class=\"dataframe\">\n",
       "  <thead>\n",
       "    <tr style=\"text-align: right;\">\n",
       "      <th></th>\n",
       "      <th>Age</th>\n",
       "      <th>Registration Date</th>\n",
       "      <th>Total Orders</th>\n",
       "      <th>Session Start</th>\n",
       "      <th>Session End</th>\n",
       "      <th>Duration (mins)</th>\n",
       "      <th>Session Rating</th>\n",
       "      <th>Order ID</th>\n",
       "      <th>Order Date</th>\n",
       "      <th>Amount (USD)</th>\n",
       "      <th>Rating</th>\n",
       "    </tr>\n",
       "  </thead>\n",
       "  <tbody>\n",
       "    <tr>\n",
       "      <th>count</th>\n",
       "      <td>16.000000</td>\n",
       "      <td>16</td>\n",
       "      <td>16.000000</td>\n",
       "      <td>16</td>\n",
       "      <td>16</td>\n",
       "      <td>16.000000</td>\n",
       "      <td>16.000000</td>\n",
       "      <td>16.000000</td>\n",
       "      <td>16</td>\n",
       "      <td>16.000000</td>\n",
       "      <td>16.000000</td>\n",
       "    </tr>\n",
       "    <tr>\n",
       "      <th>mean</th>\n",
       "      <td>32.687500</td>\n",
       "      <td>2023-03-31 16:30:00</td>\n",
       "      <td>10.562500</td>\n",
       "      <td>2024-12-05 02:50:37.500000</td>\n",
       "      <td>2024-12-05 03:20:56.249999872</td>\n",
       "      <td>30.312500</td>\n",
       "      <td>4.518750</td>\n",
       "      <td>1008.500000</td>\n",
       "      <td>2024-12-04 12:00:00</td>\n",
       "      <td>11.250000</td>\n",
       "      <td>4.285714</td>\n",
       "    </tr>\n",
       "    <tr>\n",
       "      <th>min</th>\n",
       "      <td>25.000000</td>\n",
       "      <td>2023-01-15 00:00:00</td>\n",
       "      <td>5.000000</td>\n",
       "      <td>2024-12-01 12:00:00</td>\n",
       "      <td>2024-12-01 12:20:00</td>\n",
       "      <td>10.000000</td>\n",
       "      <td>4.000000</td>\n",
       "      <td>1001.000000</td>\n",
       "      <td>2024-12-01 00:00:00</td>\n",
       "      <td>7.000000</td>\n",
       "      <td>4.000000</td>\n",
       "    </tr>\n",
       "    <tr>\n",
       "      <th>25%</th>\n",
       "      <td>28.000000</td>\n",
       "      <td>2023-02-20 00:00:00</td>\n",
       "      <td>8.000000</td>\n",
       "      <td>2024-12-03 08:37:30</td>\n",
       "      <td>2024-12-03 08:58:45</td>\n",
       "      <td>20.000000</td>\n",
       "      <td>4.300000</td>\n",
       "      <td>1004.750000</td>\n",
       "      <td>2024-12-02 18:00:00</td>\n",
       "      <td>9.000000</td>\n",
       "      <td>4.000000</td>\n",
       "    </tr>\n",
       "    <tr>\n",
       "      <th>50%</th>\n",
       "      <td>30.500000</td>\n",
       "      <td>2023-03-10 00:00:00</td>\n",
       "      <td>10.000000</td>\n",
       "      <td>2024-12-05 00:30:00</td>\n",
       "      <td>2024-12-05 00:57:30</td>\n",
       "      <td>30.000000</td>\n",
       "      <td>4.550000</td>\n",
       "      <td>1008.500000</td>\n",
       "      <td>2024-12-04 12:00:00</td>\n",
       "      <td>11.500000</td>\n",
       "      <td>4.000000</td>\n",
       "    </tr>\n",
       "    <tr>\n",
       "      <th>75%</th>\n",
       "      <td>35.750000</td>\n",
       "      <td>2023-05-22 00:00:00</td>\n",
       "      <td>12.500000</td>\n",
       "      <td>2024-12-06 23:22:30</td>\n",
       "      <td>2024-12-07 00:00:00</td>\n",
       "      <td>40.000000</td>\n",
       "      <td>4.725000</td>\n",
       "      <td>1012.250000</td>\n",
       "      <td>2024-12-06 06:00:00</td>\n",
       "      <td>13.125000</td>\n",
       "      <td>4.464286</td>\n",
       "    </tr>\n",
       "    <tr>\n",
       "      <th>max</th>\n",
       "      <td>42.000000</td>\n",
       "      <td>2023-08-11 00:00:00</td>\n",
       "      <td>15.000000</td>\n",
       "      <td>2024-12-08 19:30:00</td>\n",
       "      <td>2024-12-08 20:10:00</td>\n",
       "      <td>45.000000</td>\n",
       "      <td>5.000000</td>\n",
       "      <td>1016.000000</td>\n",
       "      <td>2024-12-08 00:00:00</td>\n",
       "      <td>15.000000</td>\n",
       "      <td>5.000000</td>\n",
       "    </tr>\n",
       "    <tr>\n",
       "      <th>std</th>\n",
       "      <td>5.839164</td>\n",
       "      <td>NaN</td>\n",
       "      <td>3.119161</td>\n",
       "      <td>NaN</td>\n",
       "      <td>NaN</td>\n",
       "      <td>10.873324</td>\n",
       "      <td>0.292617</td>\n",
       "      <td>4.760952</td>\n",
       "      <td>NaN</td>\n",
       "      <td>2.435843</td>\n",
       "      <td>0.436436</td>\n",
       "    </tr>\n",
       "  </tbody>\n",
       "</table>\n",
       "</div>"
      ],
      "text/plain": [
       "             Age    Registration Date  Total Orders  \\\n",
       "count  16.000000                   16     16.000000   \n",
       "mean   32.687500  2023-03-31 16:30:00     10.562500   \n",
       "min    25.000000  2023-01-15 00:00:00      5.000000   \n",
       "25%    28.000000  2023-02-20 00:00:00      8.000000   \n",
       "50%    30.500000  2023-03-10 00:00:00     10.000000   \n",
       "75%    35.750000  2023-05-22 00:00:00     12.500000   \n",
       "max    42.000000  2023-08-11 00:00:00     15.000000   \n",
       "std     5.839164                  NaN      3.119161   \n",
       "\n",
       "                    Session Start                    Session End  \\\n",
       "count                          16                             16   \n",
       "mean   2024-12-05 02:50:37.500000  2024-12-05 03:20:56.249999872   \n",
       "min           2024-12-01 12:00:00            2024-12-01 12:20:00   \n",
       "25%           2024-12-03 08:37:30            2024-12-03 08:58:45   \n",
       "50%           2024-12-05 00:30:00            2024-12-05 00:57:30   \n",
       "75%           2024-12-06 23:22:30            2024-12-07 00:00:00   \n",
       "max           2024-12-08 19:30:00            2024-12-08 20:10:00   \n",
       "std                           NaN                            NaN   \n",
       "\n",
       "       Duration (mins)  Session Rating     Order ID           Order Date  \\\n",
       "count        16.000000       16.000000    16.000000                   16   \n",
       "mean         30.312500        4.518750  1008.500000  2024-12-04 12:00:00   \n",
       "min          10.000000        4.000000  1001.000000  2024-12-01 00:00:00   \n",
       "25%          20.000000        4.300000  1004.750000  2024-12-02 18:00:00   \n",
       "50%          30.000000        4.550000  1008.500000  2024-12-04 12:00:00   \n",
       "75%          40.000000        4.725000  1012.250000  2024-12-06 06:00:00   \n",
       "max          45.000000        5.000000  1016.000000  2024-12-08 00:00:00   \n",
       "std          10.873324        0.292617     4.760952                  NaN   \n",
       "\n",
       "       Amount (USD)     Rating  \n",
       "count     16.000000  16.000000  \n",
       "mean      11.250000   4.285714  \n",
       "min        7.000000   4.000000  \n",
       "25%        9.000000   4.000000  \n",
       "50%       11.500000   4.000000  \n",
       "75%       13.125000   4.464286  \n",
       "max       15.000000   5.000000  \n",
       "std        2.435843   0.436436  "
      ]
     },
     "execution_count": 27,
     "metadata": {},
     "output_type": "execute_result"
    }
   ],
   "source": [
    "final_merged_data.describe()"
   ]
  },
  {
   "cell_type": "code",
   "execution_count": null,
   "id": "1cb2f4a6-49d4-43d8-b230-3b841f6e9aa3",
   "metadata": {},
   "outputs": [],
   "source": []
  },
  {
   "cell_type": "markdown",
   "id": "c073f682-2374-4498-aecf-5afe4a05497d",
   "metadata": {},
   "source": [
    "### 1. Relationship Between Cooking Sessions and Orders\n",
    "Objective: Understand if participating in cooking sessions impacts user orders."
   ]
  },
  {
   "cell_type": "code",
   "execution_count": 28,
   "id": "b7c5a3ec-e4dc-432b-b534-781ea6fa33fb",
   "metadata": {},
   "outputs": [
    {
     "name": "stdout",
     "output_type": "stream",
     "text": [
      "  User ID  total_sessions  total_orders\n",
      "0    U001               3             3\n",
      "1    U002               3             3\n",
      "2    U003               3             3\n",
      "3    U004               2             2\n",
      "4    U005               2             2\n",
      "5    U006               1             1\n",
      "6    U007               1             1\n",
      "7    U008               1             1\n",
      "                Session Rating   Rating\n",
      "Session Rating         1.00000  0.61151\n",
      "Rating                 0.61151  1.00000\n"
     ]
    }
   ],
   "source": [
    "# Total orders and sessions per user\n",
    "session_order_analysis = final_merged_data.groupby('User ID').agg(\n",
    "    total_sessions=('Session ID', 'nunique'),\n",
    "    total_orders=('Order ID', 'nunique')\n",
    ").reset_index()\n",
    "\n",
    "# Correlation between session ratings and order ratings\n",
    "correlation_analysis = final_merged_data[['Session Rating', 'Rating']].corr()\n",
    "\n",
    "print(session_order_analysis)\n",
    "print(correlation_analysis)\n"
   ]
  },
  {
   "cell_type": "code",
   "execution_count": null,
   "id": "4c95cadb-cb2d-400c-90d0-e0926fdb45c5",
   "metadata": {},
   "outputs": [],
   "source": []
  },
  {
   "cell_type": "markdown",
   "id": "2f3a594e-fbc7-4cc7-bc25-b9566bbe59ac",
   "metadata": {},
   "source": [
    "### 2. Demographics and User Behavior\n",
    "Objective: Investigate how user demographics influence cooking and ordering behavior."
   ]
  },
  {
   "cell_type": "code",
   "execution_count": 29,
   "id": "854f631c-5b34-46a0-8be2-69f4d9773472",
   "metadata": {},
   "outputs": [],
   "source": [
    "import matplotlib.pyplot as plt\n",
    "import seaborn as sb"
   ]
  },
  {
   "cell_type": "markdown",
   "id": "02a7c80b-a095-4989-b74c-cdecca0088e0",
   "metadata": {},
   "source": [
    "# Popular dishes"
   ]
  },
  {
   "cell_type": "code",
   "execution_count": 30,
   "id": "90625f91-4280-4e0d-88a9-ba5c55639bf5",
   "metadata": {},
   "outputs": [
    {
     "data": {
      "text/plain": [
       "Dish Name_y\n",
       "Spaghetti          4\n",
       "Grilled Chicken    4\n",
       "Caesar Salad       3\n",
       "Pancakes           2\n",
       "Veggie Burger      2\n",
       "Oatmeal            1\n",
       "Name: count, dtype: int64"
      ]
     },
     "execution_count": 30,
     "metadata": {},
     "output_type": "execute_result"
    }
   ],
   "source": [
    "final_merged_data[\"Dish Name_y\"].value_counts()"
   ]
  },
  {
   "cell_type": "code",
   "execution_count": 31,
   "id": "44fe2e85-b17e-4868-a685-306c32962cef",
   "metadata": {},
   "outputs": [
    {
     "data": {
      "text/plain": [
       "array([4, 4, 3, 2, 2, 1], dtype=int64)"
      ]
     },
     "execution_count": 31,
     "metadata": {},
     "output_type": "execute_result"
    }
   ],
   "source": [
    "value=final_merged_data[\"Dish Name_y\"].value_counts().values\n",
    "value"
   ]
  },
  {
   "cell_type": "code",
   "execution_count": 32,
   "id": "1d7c007c-ddd5-4905-a25f-8440bf317a52",
   "metadata": {
    "scrolled": true
   },
   "outputs": [
    {
     "data": {
      "text/plain": [
       "Index(['Spaghetti', 'Grilled Chicken', 'Caesar Salad', 'Pancakes',\n",
       "       'Veggie Burger', 'Oatmeal'],\n",
       "      dtype='object', name='Dish Name_y')"
      ]
     },
     "execution_count": 32,
     "metadata": {},
     "output_type": "execute_result"
    }
   ],
   "source": [
    "index=final_merged_data[\"Dish Name_y\"].value_counts().index\n",
    "index"
   ]
  },
  {
   "cell_type": "code",
   "execution_count": 33,
   "id": "b51b1b91-4f94-4e4b-919b-585f7502d26d",
   "metadata": {},
   "outputs": [
    {
     "data": {
      "image/png": "[encoded data removed]",
      "text/plain": [
       "<Figure size 1000x600 with 1 Axes>"
      ]
     },
     "metadata": {},
     "output_type": "display_data"
    }
   ],
   "source": [
    "plt.figure(figsize=(10, 6))\n",
    "plt.bar(index,value,edgecolor='k',color=['skyblue','blue'], align='center')\n",
    "plt.show()"
   ]
  },
  {
   "cell_type": "raw",
   "id": "331b43c0-0317-41ee-9ff3-6fe22b2abb7b",
   "metadata": {},
   "source": [
    "BY Using this,\n",
    "we can say that the Spaghetti and Grilled Chichen most demanded dish in our menu."
   ]
  },
  {
   "cell_type": "code",
   "execution_count": null,
   "id": "6d2c7c48-3b09-4b7a-bcb7-539bf1469c77",
   "metadata": {},
   "outputs": [],
   "source": []
  },
  {
   "cell_type": "markdown",
   "id": "4b7959ac-86c9-450e-a3db-7391a37735df",
   "metadata": {},
   "source": [
    "### Find the list of the customer on the based on number of orders."
   ]
  },
  {
   "cell_type": "code",
   "execution_count": 34,
   "id": "852d128e-0a41-4d9b-af78-2c33db27cd8a",
   "metadata": {},
   "outputs": [
    {
     "data": {
      "text/plain": [
       "User Name\n",
       "Alice Johnson    3\n",
       "Bob Smith        3\n",
       "Charlie Lee      3\n",
       "David Brown      2\n",
       "Emma White       2\n",
       "Frank Green      1\n",
       "Grace King       1\n",
       "Henry Lee        1\n",
       "Name: User ID, dtype: int64"
      ]
     },
     "execution_count": 34,
     "metadata": {},
     "output_type": "execute_result"
    }
   ],
   "source": [
    "count=final_merged_data.groupby(by=['User Name']).count()\n",
    "count['User ID']"
   ]
  },
  {
   "cell_type": "raw",
   "id": "c89c53da-1080-4dbd-bf59-ad70765ff2c0",
   "metadata": {},
   "source": [
    "Alice johnson , Bob Smith,Charlie Lee are the premium customer.\n",
    "we are provided some spical offer them."
   ]
  },
  {
   "cell_type": "code",
   "execution_count": null,
   "id": "8305e4b2-9e06-4529-bb72-430645f60c30",
   "metadata": {},
   "outputs": [],
   "source": [
    "counts=final_merged_data.groupby(by=['User Name','Dish Name_y']).count()\n",
    "counts['User ID']"
   ]
  },
  {
   "cell_type": "raw",
   "id": "115c6d39-98b8-4db3-9bc5-d82635e72ded",
   "metadata": {},
   "source": [
    "we are provided the same offer just like upto 70% off on the pancakes, Oatmeal,Veggie Burgeer\n",
    "these are favorite dish of the our premium customer so there are mixmum probability of orders."
   ]
  },
  {
   "cell_type": "code",
   "execution_count": null,
   "id": "3ef49d3d-07b1-4451-bc5d-4f24c4160d7f",
   "metadata": {},
   "outputs": [],
   "source": []
  },
  {
   "cell_type": "code",
   "execution_count": 37,
   "id": "beeb7ba2-06d9-4274-b559-f45f363cc95e",
   "metadata": {},
   "outputs": [
    {
     "data": {
      "text/html": [
       "<div>\n",
       "<style scoped>\n",
       "    .dataframe tbody tr th:only-of-type {\n",
       "        vertical-align: middle;\n",
       "    }\n",
       "\n",
       "    .dataframe tbody tr th {\n",
       "        vertical-align: top;\n",
       "    }\n",
       "\n",
       "    .dataframe thead th {\n",
       "        text-align: right;\n",
       "    }\n",
       "</style>\n",
       "<table border=\"1\" class=\"dataframe\">\n",
       "  <thead>\n",
       "    <tr style=\"text-align: right;\">\n",
       "      <th></th>\n",
       "      <th>Amount (USD)</th>\n",
       "    </tr>\n",
       "    <tr>\n",
       "      <th>Dish Name_y</th>\n",
       "      <th></th>\n",
       "    </tr>\n",
       "  </thead>\n",
       "  <tbody>\n",
       "    <tr>\n",
       "      <th>Caesar Salad</th>\n",
       "      <td>28.0</td>\n",
       "    </tr>\n",
       "    <tr>\n",
       "      <th>Grilled Chicken</th>\n",
       "      <td>51.0</td>\n",
       "    </tr>\n",
       "    <tr>\n",
       "      <th>Oatmeal</th>\n",
       "      <td>7.0</td>\n",
       "    </tr>\n",
       "    <tr>\n",
       "      <th>Pancakes</th>\n",
       "      <td>16.5</td>\n",
       "    </tr>\n",
       "    <tr>\n",
       "      <th>Spaghetti</th>\n",
       "      <td>55.5</td>\n",
       "    </tr>\n",
       "    <tr>\n",
       "      <th>Veggie Burger</th>\n",
       "      <td>22.0</td>\n",
       "    </tr>\n",
       "  </tbody>\n",
       "</table>\n",
       "</div>"
      ],
      "text/plain": [
       "                 Amount (USD)\n",
       "Dish Name_y                  \n",
       "Caesar Salad             28.0\n",
       "Grilled Chicken          51.0\n",
       "Oatmeal                   7.0\n",
       "Pancakes                 16.5\n",
       "Spaghetti                55.5\n",
       "Veggie Burger            22.0"
      ]
     },
     "execution_count": 37,
     "metadata": {},
     "output_type": "execute_result"
    }
   ],
   "source": [
    "table=final_merged_data.pivot_table(index='Dish Name_y',values='Amount (USD)',aggfunc='sum')\n",
    "table"
   ]
  },
  {
   "cell_type": "raw",
   "id": "6ce771e7-1830-48e6-8204-5e4b2774641e",
   "metadata": {},
   "source": [
    "we get minimum revenue from Oatmeat , my suggestion is Oatmeat replace by the other dish.\n",
    "we get maximun revenue from spaghetti"
   ]
  },
  {
   "cell_type": "code",
   "execution_count": null,
   "id": "d91b63fb-8eab-4b2f-b756-91c342625ff9",
   "metadata": {},
   "outputs": [],
   "source": [
    "tables=final_merged_data.pivot_table(index=['Meal Type_y','Dish Name_y'],values='Amount (USD)',aggfunc='sum')\n",
    "tables"
   ]
  },
  {
   "cell_type": "code",
   "execution_count": null,
   "id": "66468d84-59bd-4b0c-81b6-749149dd37e6",
   "metadata": {},
   "outputs": [],
   "source": [
    "final_merged_data['Day Name']=final_merged_data['Order Date'].dt.day_name()"
   ]
  },
  {
   "cell_type": "code",
   "execution_count": null,
   "id": "164030be-5079-40f3-9c1a-c39dde42f511",
   "metadata": {},
   "outputs": [],
   "source": [
    "sb.countplot(x=final_merged_data['Day Name'])\n",
    "plt.show()"
   ]
  },
  {
   "cell_type": "raw",
   "id": "ef8ab4e0-62e9-4632-b70f-853d2c31b0ea",
   "metadata": {},
   "source": [
    " Maximum orders comes on the sunday so we are provide some offers on the all dish."
   ]
  },
  {
   "cell_type": "code",
   "execution_count": null,
   "id": "6911a529-2333-4f8f-a721-fda75038bdc4",
   "metadata": {},
   "outputs": [],
   "source": []
  },
  {
   "cell_type": "code",
   "execution_count": 50,
   "id": "fbd92125-f992-4bd4-8e1d-6bfa6cededf1",
   "metadata": {},
   "outputs": [
    {
     "data": {
      "text/html": [
       "<div>\n",
       "<style scoped>\n",
       "    .dataframe tbody tr th:only-of-type {\n",
       "        vertical-align: middle;\n",
       "    }\n",
       "\n",
       "    .dataframe tbody tr th {\n",
       "        vertical-align: top;\n",
       "    }\n",
       "\n",
       "    .dataframe thead th {\n",
       "        text-align: right;\n",
       "    }\n",
       "</style>\n",
       "<table border=\"1\" class=\"dataframe\">\n",
       "  <thead>\n",
       "    <tr style=\"text-align: right;\">\n",
       "      <th></th>\n",
       "      <th>User ID</th>\n",
       "      <th>User Name</th>\n",
       "      <th>Age</th>\n",
       "      <th>Location</th>\n",
       "      <th>Registration Date</th>\n",
       "      <th>Phone</th>\n",
       "      <th>Email</th>\n",
       "      <th>Favorite Meal</th>\n",
       "      <th>Total Orders</th>\n",
       "      <th>Session ID</th>\n",
       "      <th>...</th>\n",
       "      <th>Duration (mins)</th>\n",
       "      <th>Session Rating</th>\n",
       "      <th>Order ID</th>\n",
       "      <th>Order Date</th>\n",
       "      <th>Meal Type_y</th>\n",
       "      <th>Dish Name_y</th>\n",
       "      <th>Order Status</th>\n",
       "      <th>Amount (USD)</th>\n",
       "      <th>Time of Day</th>\n",
       "      <th>Rating</th>\n",
       "    </tr>\n",
       "  </thead>\n",
       "  <tbody>\n",
       "    <tr>\n",
       "      <th>0</th>\n",
       "      <td>U001</td>\n",
       "      <td>Alice Johnson</td>\n",
       "      <td>28</td>\n",
       "      <td>New York</td>\n",
       "      <td>2023-01-15</td>\n",
       "      <td>123-456-7890</td>\n",
       "      <td>alice@email.com</td>\n",
       "      <td>Dinner</td>\n",
       "      <td>12</td>\n",
       "      <td>S001</td>\n",
       "      <td>...</td>\n",
       "      <td>30</td>\n",
       "      <td>4.5</td>\n",
       "      <td>1001</td>\n",
       "      <td>2024-12-01</td>\n",
       "      <td>Dinner</td>\n",
       "      <td>Spaghetti</td>\n",
       "      <td>Completed</td>\n",
       "      <td>15.0</td>\n",
       "      <td>Night</td>\n",
       "      <td>5.0</td>\n",
       "    </tr>\n",
       "    <tr>\n",
       "      <th>1</th>\n",
       "      <td>U001</td>\n",
       "      <td>Alice Johnson</td>\n",
       "      <td>28</td>\n",
       "      <td>New York</td>\n",
       "      <td>2023-01-15</td>\n",
       "      <td>123-456-7890</td>\n",
       "      <td>alice@email.com</td>\n",
       "      <td>Dinner</td>\n",
       "      <td>12</td>\n",
       "      <td>S004</td>\n",
       "      <td>...</td>\n",
       "      <td>30</td>\n",
       "      <td>4.2</td>\n",
       "      <td>1004</td>\n",
       "      <td>2024-12-02</td>\n",
       "      <td>Breakfast</td>\n",
       "      <td>Pancakes</td>\n",
       "      <td>Completed</td>\n",
       "      <td>8.0</td>\n",
       "      <td>Morning</td>\n",
       "      <td>4.0</td>\n",
       "    </tr>\n",
       "  </tbody>\n",
       "</table>\n",
       "<p>2 rows × 24 columns</p>\n",
       "</div>"
      ],
      "text/plain": [
       "  User ID      User Name  Age  Location Registration Date         Phone  \\\n",
       "0    U001  Alice Johnson   28  New York        2023-01-15  123-456-7890   \n",
       "1    U001  Alice Johnson   28  New York        2023-01-15  123-456-7890   \n",
       "\n",
       "             Email Favorite Meal  Total Orders Session ID  ...  \\\n",
       "0  alice@email.com        Dinner            12       S001  ...   \n",
       "1  alice@email.com        Dinner            12       S004  ...   \n",
       "\n",
       "  Duration (mins) Session Rating Order ID Order Date  Meal Type_y  \\\n",
       "0              30            4.5     1001 2024-12-01       Dinner   \n",
       "1              30            4.2     1004 2024-12-02    Breakfast   \n",
       "\n",
       "   Dish Name_y  Order Status Amount (USD) Time of Day Rating  \n",
       "0    Spaghetti     Completed         15.0       Night    5.0  \n",
       "1     Pancakes     Completed          8.0     Morning    4.0  \n",
       "\n",
       "[2 rows x 24 columns]"
      ]
     },
     "execution_count": 50,
     "metadata": {},
     "output_type": "execute_result"
    }
   ],
   "source": [
    "final_merged_data.head(2)"
   ]
  },
  {
   "cell_type": "code",
   "execution_count": 49,
   "id": "303a5a6e-e295-4c5b-9840-ea70d76ca597",
   "metadata": {
    "scrolled": true
   },
   "outputs": [
    {
     "data": {
      "text/html": [
       "<div>\n",
       "<style scoped>\n",
       "    .dataframe tbody tr th:only-of-type {\n",
       "        vertical-align: middle;\n",
       "    }\n",
       "\n",
       "    .dataframe tbody tr th {\n",
       "        vertical-align: top;\n",
       "    }\n",
       "\n",
       "    .dataframe thead th {\n",
       "        text-align: right;\n",
       "    }\n",
       "</style>\n",
       "<table border=\"1\" class=\"dataframe\">\n",
       "  <thead>\n",
       "    <tr style=\"text-align: right;\">\n",
       "      <th></th>\n",
       "      <th></th>\n",
       "      <th>Order ID</th>\n",
       "    </tr>\n",
       "    <tr>\n",
       "      <th>Location</th>\n",
       "      <th>Dish Name_y</th>\n",
       "      <th></th>\n",
       "    </tr>\n",
       "  </thead>\n",
       "  <tbody>\n",
       "    <tr>\n",
       "      <th>Austin</th>\n",
       "      <th>Grilled Chicken</th>\n",
       "      <td>1</td>\n",
       "    </tr>\n",
       "    <tr>\n",
       "      <th>Boston</th>\n",
       "      <th>Spaghetti</th>\n",
       "      <td>1</td>\n",
       "    </tr>\n",
       "    <tr>\n",
       "      <th rowspan=\"3\" valign=\"top\">Chicago</th>\n",
       "      <th>Grilled Chicken</th>\n",
       "      <td>1</td>\n",
       "    </tr>\n",
       "    <tr>\n",
       "      <th>Pancakes</th>\n",
       "      <td>1</td>\n",
       "    </tr>\n",
       "    <tr>\n",
       "      <th>Veggie Burger</th>\n",
       "      <td>1</td>\n",
       "    </tr>\n",
       "    <tr>\n",
       "      <th rowspan=\"3\" valign=\"top\">Los Angeles</th>\n",
       "      <th>Caesar Salad</th>\n",
       "      <td>1</td>\n",
       "    </tr>\n",
       "    <tr>\n",
       "      <th>Oatmeal</th>\n",
       "      <td>1</td>\n",
       "    </tr>\n",
       "    <tr>\n",
       "      <th>Spaghetti</th>\n",
       "      <td>1</td>\n",
       "    </tr>\n",
       "    <tr>\n",
       "      <th>Miami</th>\n",
       "      <th>Veggie Burger</th>\n",
       "      <td>1</td>\n",
       "    </tr>\n",
       "    <tr>\n",
       "      <th rowspan=\"3\" valign=\"top\">New York</th>\n",
       "      <th>Grilled Chicken</th>\n",
       "      <td>1</td>\n",
       "    </tr>\n",
       "    <tr>\n",
       "      <th>Pancakes</th>\n",
       "      <td>1</td>\n",
       "    </tr>\n",
       "    <tr>\n",
       "      <th>Spaghetti</th>\n",
       "      <td>1</td>\n",
       "    </tr>\n",
       "    <tr>\n",
       "      <th rowspan=\"2\" valign=\"top\">San Francisco</th>\n",
       "      <th>Caesar Salad</th>\n",
       "      <td>1</td>\n",
       "    </tr>\n",
       "    <tr>\n",
       "      <th>Spaghetti</th>\n",
       "      <td>1</td>\n",
       "    </tr>\n",
       "    <tr>\n",
       "      <th rowspan=\"2\" valign=\"top\">Seattle</th>\n",
       "      <th>Caesar Salad</th>\n",
       "      <td>1</td>\n",
       "    </tr>\n",
       "    <tr>\n",
       "      <th>Grilled Chicken</th>\n",
       "      <td>1</td>\n",
       "    </tr>\n",
       "  </tbody>\n",
       "</table>\n",
       "</div>"
      ],
      "text/plain": [
       "                               Order ID\n",
       "Location      Dish Name_y              \n",
       "Austin        Grilled Chicken         1\n",
       "Boston        Spaghetti               1\n",
       "Chicago       Grilled Chicken         1\n",
       "              Pancakes                1\n",
       "              Veggie Burger           1\n",
       "Los Angeles   Caesar Salad            1\n",
       "              Oatmeal                 1\n",
       "              Spaghetti               1\n",
       "Miami         Veggie Burger           1\n",
       "New York      Grilled Chicken         1\n",
       "              Pancakes                1\n",
       "              Spaghetti               1\n",
       "San Francisco Caesar Salad            1\n",
       "              Spaghetti               1\n",
       "Seattle       Caesar Salad            1\n",
       "              Grilled Chicken         1"
      ]
     },
     "execution_count": 49,
     "metadata": {},
     "output_type": "execute_result"
    }
   ],
   "source": [
    "tableA=final_merged_data.pivot_table(index=['Location','Dish Name_y'],values='Order ID',aggfunc='count')\n",
    "tableA"
   ]
  },
  {
   "cell_type": "raw",
   "id": "8eb3c081-5468-4266-9baf-20ad926fd060",
   "metadata": {},
   "source": [
    "Maximun orders come from the Chicago , Los Angeles, New York and San Francisco,"
   ]
  },
  {
   "cell_type": "code",
   "execution_count": null,
   "id": "f1e68a98-1ca8-4116-854b-0598f477b036",
   "metadata": {},
   "outputs": [],
   "source": [
    "\n"
   ]
  },
  {
   "cell_type": "code",
   "execution_count": 51,
   "id": "434212de-fbdc-4896-a362-6cc76a98b8d2",
   "metadata": {},
   "outputs": [],
   "source": [
    "final_merged_data['Month']=final_merged_data['Registration Date'].dt.month_name()"
   ]
  },
  {
   "cell_type": "code",
   "execution_count": 56,
   "id": "4c1263ea-bf18-4839-81f1-fb4d5543e9bc",
   "metadata": {},
   "outputs": [
    {
     "data": {
      "image/png": "[encoded data removed]",
      "text/plain": [
       "<Figure size 640x480 with 1 Axes>"
      ]
     },
     "metadata": {},
     "output_type": "display_data"
    }
   ],
   "source": [
    "plt.plot(final_merged_data['Month'],)\n",
    "plt.show()"
   ]
  },
  {
   "cell_type": "code",
   "execution_count": null,
   "id": "a71960a9-1992-420f-8d48-31e4f608fc0d",
   "metadata": {},
   "outputs": [],
   "source": [
    "Line chart shows that our business grow day by day."
   ]
  },
  {
   "cell_type": "markdown",
   "id": "aebd4b88-111a-4b84-bd21-74e377c6befe",
   "metadata": {},
   "source": [
    "### Scatter chart between Dish and Rating"
   ]
  },
  {
   "cell_type": "code",
   "execution_count": 47,
   "id": "79b346e5-ae11-424b-8461-91d8d6569f12",
   "metadata": {},
   "outputs": [
    {
     "data": {
      "image/png": "[encoded data removed]",
      "text/plain": [
       "<Figure size 1000x600 with 1 Axes>"
      ]
     },
     "metadata": {},
     "output_type": "display_data"
    }
   ],
   "source": [
    "import matplotlib.pyplot as plt\n",
    "import seaborn as sb\n",
    "plt.figure(figsize=(10, 6))\n",
    "\n",
    "sb.scatterplot(x=final_merged_data['Dish Name_y'], y=final_merged_data['Rating'], c =\"blue\",hue=final_merged_data['Time of Day'])\n",
    "plt.show()\n"
   ]
  },
  {
   "cell_type": "raw",
   "id": "4a999ee9-09c4-4b41-a125-e48aea15887b",
   "metadata": {},
   "source": [
    "Spaghetti and Grilled Chicken are very Rating in Dinner."
   ]
  },
  {
   "cell_type": "code",
   "execution_count": null,
   "id": "94be1d1e-9c2d-4b8f-b7da-2ab3e71f7b5e",
   "metadata": {},
   "outputs": [],
   "source": [
    "\n"
   ]
  },
  {
   "cell_type": "code",
   "execution_count": null,
   "id": "54187bc5-6f05-400e-ba1e-9afa2e39a8c0",
   "metadata": {},
   "outputs": [],
   "source": [
    "\n"
   ]
  },
  {
   "cell_type": "code",
   "execution_count": null,
   "id": "44346d04-34a6-44f8-9af8-11aea77ed3d6",
   "metadata": {},
   "outputs": [],
   "source": []
  }
 ],
 "metadata": {
  "kernelspec": {
   "display_name": "Python 3 (ipykernel)",
   "language": "python",
   "name": "python3"
  },
  "language_info": {
   "codemirror_mode": {
    "name": "ipython",
    "version": 3
   },
   "file_extension": ".py",
   "mimetype": "text/x-python",
   "name": "python",
   "nbconvert_exporter": "python",
   "pygments_lexer": "ipython3",
   "version": "3.11.7"
  }
 },
 "nbformat": 4,
 "nbformat_minor": 5
}
